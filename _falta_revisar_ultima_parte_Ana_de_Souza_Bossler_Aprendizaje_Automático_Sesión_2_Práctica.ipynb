{
  "nbformat": 4,
  "nbformat_minor": 0,
  "metadata": {
    "colab": {
      "name": "**falta revisar ultima parte Ana de Souza Bossler Aprendizaje Automático - Sesión 2 - Práctica",
      "provenance": [],
      "collapsed_sections": [],
      "include_colab_link": true
    },
    "kernelspec": {
      "name": "python3",
      "display_name": "Python 3"
    }
  },
  "cells": [
    {
      "cell_type": "markdown",
      "metadata": {
        "id": "view-in-github",
        "colab_type": "text"
      },
      "source": [
        "<a href=\"https://colab.research.google.com/github/anabossler/clasetecnolog-a/blob/master/_falta_revisar_ultima_parte_Ana_de_Souza_Bossler_Aprendizaje_Autom%C3%A1tico_Sesi%C3%B3n_2_Pr%C3%A1ctica.ipynb\" target=\"_parent\"><img src=\"https://colab.research.google.com/assets/colab-badge.svg\" alt=\"Open In Colab\"/></a>"
      ]
    },
    {
      "cell_type": "markdown",
      "metadata": {
        "id": "bAfDXEWCj8Hx"
      },
      "source": [
        "<img src='https://drive.google.com/uc?id=1DHE8rHnhKRam8LrZpOkVY6iF3GMK7Jwf' caption=\"Máster Universitario en Automática y Robótica\"></center>\n",
        "\n",
        "# Aprendizaje Automático\n",
        "## Práctica 2\n",
        "\n",
        "Profesor: **José Javier Valero Mas**\n",
        "\n",
        "### Ejercicio\n",
        "\n",
        "La tarea a realizar consistirá en poner en práctica los conceptos prácticos introducidos en esta sesión.\n",
        "\n",
        "Para ello el alumno deberá:\n",
        "* Escoger un conjunto de datos desbalanceados para su clasificación\n",
        "* Evaluar los cuatro clasificadores introducidos en la sesión teórica: $k$NN, Decision Tree, SVM y Random Forest\n",
        "* Realizar una validación cruzada de k=10 folds\n",
        "* Proporcionar el valor de la métrica F$_{1}$ para la clase **minoritaria** del conjunto de datos para los diferentes folds\n",
        "* Promediar los 10 folds de cada clasificador y así concluir cuál se comporta mejor ante el escenario planteado\n",
        "\n",
        "\n",
        "Para la realización de la misma se deberá utilizar alguno de estos dos conjuntos de datos:\n",
        "* https://www.vision.uji.es/~sanchez/Databases/phoneme/dataset\n",
        "* https://www.vision.uji.es/~sanchez/Databases/spam/dataset\n",
        "\n",
        "\n",
        "### Entrega\n",
        "\n",
        "  * Haz una copia de este archivo (\"Archivo\" > \"Guardar una copia en drive\").\n",
        "\n",
        "  * Realiza la práctica descrita en el apartado anterior sobre el nuevo archivo. Documenta los pasos que vas realizando incrustando texto en Colab.\n",
        "\n",
        "  * Genera un enlace para compartir (acuérdate de dar los permisos apropiados). Copia y pega el enlace en la entrega habilitada en el Moodle de la asignatura.\n",
        "\n"
      ]
    },
    {
      "cell_type": "markdown",
      "metadata": {
        "id": "jWaz5_-0D5Cu"
      },
      "source": [
        "1. Elijo el dataset phoneme/dataset y analizo los datos brevemente. Vemos que los datos están desbalanceados, por ej. la columna 5 tiene 29,3% de los datos como 1 (son binarios, 1 o 0).\n",
        "\n"
      ]
    },
    {
      "cell_type": "code",
      "metadata": {
        "id": "Ib5DpVD7xvaj"
      },
      "source": [
        "import pandas as pd\n",
        "from sklearn.model_selection import train_test_split\n",
        "\n",
        "data = pd.read_csv('/content/sample_data/phoneme - tesisua.csv', header=None, delimiter=',')\n",
        "\n",
        "X = data.loc[:,0:4]\n",
        "Y = data.loc[:,5]\n",
        "\n",
        "X_train, X_test, Y_train, Y_test = train_test_split(X, Y, test_size = 0.25)"
      ],
      "execution_count": 55,
      "outputs": []
    },
    {
      "cell_type": "markdown",
      "metadata": {
        "id": "WMX4R8HGi9kj"
      },
      "source": [
        ""
      ]
    },
    {
      "cell_type": "code",
      "metadata": {
        "id": "JNSIWHecDv4F",
        "colab": {
          "base_uri": "https://localhost:8080/"
        },
        "outputId": "20f30adc-a4ce-4686-fd29-1e577cc19317"
      },
      "source": [
        "print(data)\n"
      ],
      "execution_count": 56,
      "outputs": [
        {
          "output_type": "stream",
          "text": [
            "            0        1        2         3        4  5\n",
            "0    -437.509  190.497 -185.775   -3.4440 -488.343  1\n",
            "1    -443.875   53.265  132.394    1.6146    0.000  0\n",
            "2    -504.454  420.224  922.828 -356.8210 -356.589  1\n",
            "3    -515.856  651.163  120.677    1.2630    0.000  1\n",
            "4    -532.765  432.019 -486.414 -243.4740 -161.961  0\n",
            "...       ...      ...      ...       ...      ... ..\n",
            "5399  380.153  -39.313  152.672 -824.4270 -549.618  0\n",
            "5400  386.805  -33.112 -118.672 -655.6020 -439.834  0\n",
            "5401  389.224 -241.037  488.353 -126.5950  -66.032  0\n",
            "5402  390.863  583.756 -129.949 -873.0960  568.528  0\n",
            "5403  410.667  606.667 -106.667 -466.6670 -333.333  0\n",
            "\n",
            "[5404 rows x 6 columns]\n"
          ],
          "name": "stdout"
        }
      ]
    },
    {
      "cell_type": "code",
      "metadata": {
        "colab": {
          "base_uri": "https://localhost:8080/",
          "height": 198
        },
        "id": "qfETNM3Lhzul",
        "outputId": "39dd31d7-db6b-47df-9a9b-33422ec44810"
      },
      "source": [
        "data.head()"
      ],
      "execution_count": 57,
      "outputs": [
        {
          "output_type": "execute_result",
          "data": {
            "text/html": [
              "<div>\n",
              "<style scoped>\n",
              "    .dataframe tbody tr th:only-of-type {\n",
              "        vertical-align: middle;\n",
              "    }\n",
              "\n",
              "    .dataframe tbody tr th {\n",
              "        vertical-align: top;\n",
              "    }\n",
              "\n",
              "    .dataframe thead th {\n",
              "        text-align: right;\n",
              "    }\n",
              "</style>\n",
              "<table border=\"1\" class=\"dataframe\">\n",
              "  <thead>\n",
              "    <tr style=\"text-align: right;\">\n",
              "      <th></th>\n",
              "      <th>0</th>\n",
              "      <th>1</th>\n",
              "      <th>2</th>\n",
              "      <th>3</th>\n",
              "      <th>4</th>\n",
              "      <th>5</th>\n",
              "    </tr>\n",
              "  </thead>\n",
              "  <tbody>\n",
              "    <tr>\n",
              "      <th>0</th>\n",
              "      <td>-437.509</td>\n",
              "      <td>190.497</td>\n",
              "      <td>-185.775</td>\n",
              "      <td>-3.4440</td>\n",
              "      <td>-488.343</td>\n",
              "      <td>1</td>\n",
              "    </tr>\n",
              "    <tr>\n",
              "      <th>1</th>\n",
              "      <td>-443.875</td>\n",
              "      <td>53.265</td>\n",
              "      <td>132.394</td>\n",
              "      <td>1.6146</td>\n",
              "      <td>0.000</td>\n",
              "      <td>0</td>\n",
              "    </tr>\n",
              "    <tr>\n",
              "      <th>2</th>\n",
              "      <td>-504.454</td>\n",
              "      <td>420.224</td>\n",
              "      <td>922.828</td>\n",
              "      <td>-356.8210</td>\n",
              "      <td>-356.589</td>\n",
              "      <td>1</td>\n",
              "    </tr>\n",
              "    <tr>\n",
              "      <th>3</th>\n",
              "      <td>-515.856</td>\n",
              "      <td>651.163</td>\n",
              "      <td>120.677</td>\n",
              "      <td>1.2630</td>\n",
              "      <td>0.000</td>\n",
              "      <td>1</td>\n",
              "    </tr>\n",
              "    <tr>\n",
              "      <th>4</th>\n",
              "      <td>-532.765</td>\n",
              "      <td>432.019</td>\n",
              "      <td>-486.414</td>\n",
              "      <td>-243.4740</td>\n",
              "      <td>-161.961</td>\n",
              "      <td>0</td>\n",
              "    </tr>\n",
              "  </tbody>\n",
              "</table>\n",
              "</div>"
            ],
            "text/plain": [
              "         0        1        2         3        4  5\n",
              "0 -437.509  190.497 -185.775   -3.4440 -488.343  1\n",
              "1 -443.875   53.265  132.394    1.6146    0.000  0\n",
              "2 -504.454  420.224  922.828 -356.8210 -356.589  1\n",
              "3 -515.856  651.163  120.677    1.2630    0.000  1\n",
              "4 -532.765  432.019 -486.414 -243.4740 -161.961  0"
            ]
          },
          "metadata": {
            "tags": []
          },
          "execution_count": 57
        }
      ]
    },
    {
      "cell_type": "code",
      "metadata": {
        "colab": {
          "base_uri": "https://localhost:8080/"
        },
        "id": "F1gnig9Oh9te",
        "outputId": "9b3ec8d6-beb0-4951-f606-032ae05f6f85"
      },
      "source": [
        "print(f'The number of rows are {data.shape[0]} \\nand the number of columns are {data.shape[1]}')"
      ],
      "execution_count": 58,
      "outputs": [
        {
          "output_type": "stream",
          "text": [
            "The number of rows are 5404 \n",
            "and the number of columns are 6\n"
          ],
          "name": "stdout"
        }
      ]
    },
    {
      "cell_type": "code",
      "metadata": {
        "colab": {
          "base_uri": "https://localhost:8080/"
        },
        "id": "zXEvfUXqiG5a",
        "outputId": "fa21935f-6afc-4e1a-af0e-b6765cc7ccb4"
      },
      "source": [
        "print(data.dtypes)"
      ],
      "execution_count": 59,
      "outputs": [
        {
          "output_type": "stream",
          "text": [
            "0    float64\n",
            "1    float64\n",
            "2    float64\n",
            "3    float64\n",
            "4    float64\n",
            "5      int64\n",
            "dtype: object\n"
          ],
          "name": "stdout"
        }
      ]
    },
    {
      "cell_type": "code",
      "metadata": {
        "colab": {
          "base_uri": "https://localhost:8080/",
          "height": 288
        },
        "id": "oL55WBsMiJOG",
        "outputId": "22952b78-b5bf-422e-d366-55cbb532defb"
      },
      "source": [
        "data.describe()"
      ],
      "execution_count": 60,
      "outputs": [
        {
          "output_type": "execute_result",
          "data": {
            "text/html": [
              "<div>\n",
              "<style scoped>\n",
              "    .dataframe tbody tr th:only-of-type {\n",
              "        vertical-align: middle;\n",
              "    }\n",
              "\n",
              "    .dataframe tbody tr th {\n",
              "        vertical-align: top;\n",
              "    }\n",
              "\n",
              "    .dataframe thead th {\n",
              "        text-align: right;\n",
              "    }\n",
              "</style>\n",
              "<table border=\"1\" class=\"dataframe\">\n",
              "  <thead>\n",
              "    <tr style=\"text-align: right;\">\n",
              "      <th></th>\n",
              "      <th>0</th>\n",
              "      <th>1</th>\n",
              "      <th>2</th>\n",
              "      <th>3</th>\n",
              "      <th>4</th>\n",
              "      <th>5</th>\n",
              "    </tr>\n",
              "  </thead>\n",
              "  <tbody>\n",
              "    <tr>\n",
              "      <th>count</th>\n",
              "      <td>5404.000000</td>\n",
              "      <td>5404.000000</td>\n",
              "      <td>5404.000000</td>\n",
              "      <td>5404.000000</td>\n",
              "      <td>5404.000000</td>\n",
              "      <td>5404.000000</td>\n",
              "    </tr>\n",
              "    <tr>\n",
              "      <th>mean</th>\n",
              "      <td>309.876047</td>\n",
              "      <td>318.750186</td>\n",
              "      <td>147.126709</td>\n",
              "      <td>68.567513</td>\n",
              "      <td>-57.725222</td>\n",
              "      <td>0.293486</td>\n",
              "    </tr>\n",
              "    <tr>\n",
              "      <th>std</th>\n",
              "      <td>272.277477</td>\n",
              "      <td>283.813170</td>\n",
              "      <td>397.052486</td>\n",
              "      <td>461.037113</td>\n",
              "      <td>411.715776</td>\n",
              "      <td>0.455401</td>\n",
              "    </tr>\n",
              "    <tr>\n",
              "      <th>min</th>\n",
              "      <td>-993.032000</td>\n",
              "      <td>-917.279000</td>\n",
              "      <td>-997.305000</td>\n",
              "      <td>-999.329000</td>\n",
              "      <td>-997.151000</td>\n",
              "      <td>0.000000</td>\n",
              "    </tr>\n",
              "    <tr>\n",
              "      <th>25%</th>\n",
              "      <td>138.593500</td>\n",
              "      <td>132.113500</td>\n",
              "      <td>-42.288250</td>\n",
              "      <td>-211.998000</td>\n",
              "      <td>-297.444250</td>\n",
              "      <td>0.000000</td>\n",
              "    </tr>\n",
              "    <tr>\n",
              "      <th>50%</th>\n",
              "      <td>255.707000</td>\n",
              "      <td>239.312000</td>\n",
              "      <td>157.360000</td>\n",
              "      <td>121.996000</td>\n",
              "      <td>-4.161000</td>\n",
              "      <td>0.000000</td>\n",
              "    </tr>\n",
              "    <tr>\n",
              "      <th>75%</th>\n",
              "      <td>449.490500</td>\n",
              "      <td>514.506000</td>\n",
              "      <td>336.758750</td>\n",
              "      <td>320.282500</td>\n",
              "      <td>130.950250</td>\n",
              "      <td>1.000000</td>\n",
              "    </tr>\n",
              "    <tr>\n",
              "      <th>max</th>\n",
              "      <td>998.798000</td>\n",
              "      <td>999.631000</td>\n",
              "      <td>999.469000</td>\n",
              "      <td>999.773000</td>\n",
              "      <td>999.627000</td>\n",
              "      <td>1.000000</td>\n",
              "    </tr>\n",
              "  </tbody>\n",
              "</table>\n",
              "</div>"
            ],
            "text/plain": [
              "                 0            1  ...            4            5\n",
              "count  5404.000000  5404.000000  ...  5404.000000  5404.000000\n",
              "mean    309.876047   318.750186  ...   -57.725222     0.293486\n",
              "std     272.277477   283.813170  ...   411.715776     0.455401\n",
              "min    -993.032000  -917.279000  ...  -997.151000     0.000000\n",
              "25%     138.593500   132.113500  ...  -297.444250     0.000000\n",
              "50%     255.707000   239.312000  ...    -4.161000     0.000000\n",
              "75%     449.490500   514.506000  ...   130.950250     1.000000\n",
              "max     998.798000   999.631000  ...   999.627000     1.000000\n",
              "\n",
              "[8 rows x 6 columns]"
            ]
          },
          "metadata": {
            "tags": []
          },
          "execution_count": 60
        }
      ]
    },
    {
      "cell_type": "code",
      "metadata": {
        "id": "-RTF3ZzjiMht"
      },
      "source": [
        "def missing(df):\n",
        "    total=df.isnull().sum().sort_values(ascending=False)\n",
        "    percent=(df.isnull().sum()*100/df.isnull().count()).sort_values(ascending=False)"
      ],
      "execution_count": 61,
      "outputs": []
    },
    {
      "cell_type": "code",
      "metadata": {
        "id": "1x9ZoNKyiQtB"
      },
      "source": [
        "missing(data)"
      ],
      "execution_count": 62,
      "outputs": []
    },
    {
      "cell_type": "code",
      "metadata": {
        "colab": {
          "base_uri": "https://localhost:8080/"
        },
        "id": "DmDatxgAiVRC",
        "outputId": "f7518ecb-9287-4472-9bb3-1ebd161f0dd0"
      },
      "source": [
        "data.isnull().sum()"
      ],
      "execution_count": 63,
      "outputs": [
        {
          "output_type": "execute_result",
          "data": {
            "text/plain": [
              "0    0\n",
              "1    0\n",
              "2    0\n",
              "3    0\n",
              "4    0\n",
              "5    0\n",
              "dtype: int64"
            ]
          },
          "metadata": {
            "tags": []
          },
          "execution_count": 63
        }
      ]
    },
    {
      "cell_type": "code",
      "metadata": {
        "id": "RRWS78QTinAw"
      },
      "source": [
        "corrMatrix = data.corr()"
      ],
      "execution_count": 64,
      "outputs": []
    },
    {
      "cell_type": "code",
      "metadata": {
        "colab": {
          "base_uri": "https://localhost:8080/"
        },
        "id": "vLRqTxByipl5",
        "outputId": "cea93503-39ff-4374-a96c-3aa7fce386f2"
      },
      "source": [
        "print (corrMatrix)"
      ],
      "execution_count": 22,
      "outputs": [
        {
          "output_type": "stream",
          "text": [
            "          0         1         2         3         4         5\n",
            "0  1.000000 -0.017077 -0.056228  0.033342  0.043353  0.030042\n",
            "1 -0.017077  1.000000  0.140112  0.090821  0.038627  0.213518\n",
            "2 -0.056228  0.140112  1.000000  0.094904 -0.015924  0.232598\n",
            "3  0.033342  0.090821  0.094904  1.000000  0.069263  0.124206\n",
            "4  0.043353  0.038627 -0.015924  0.069263  1.000000  0.051198\n",
            "5  0.030042  0.213518  0.232598  0.124206  0.051198  1.000000\n"
          ],
          "name": "stdout"
        }
      ]
    },
    {
      "cell_type": "markdown",
      "metadata": {
        "id": "dZ8jHJ_ui_YH"
      },
      "source": [
        "2.Aplicación de los 4 clasificadores."
      ]
    },
    {
      "cell_type": "code",
      "metadata": {
        "id": "5T4sfJ9ujISP"
      },
      "source": [
        "#primero clasificador KNN \n",
        "from sklearn import neighbors\n",
        "\n",
        "###se utiliza los parámetros default: distancia euclídea y k=5\n",
        "model = neighbors.KNeighborsClassifier().fit(X_train, Y_train)\n",
        "\n",
        "#predicción sobre la partición de test\n",
        "Y_predict = model.predict(X_test)\n"
      ],
      "execution_count": 65,
      "outputs": []
    },
    {
      "cell_type": "code",
      "metadata": {
        "colab": {
          "base_uri": "https://localhost:8080/"
        },
        "id": "uQ1aM-uUj-tC",
        "outputId": "229b02a6-e438-477f-947c-bd52f43dd289"
      },
      "source": [
        "from sklearn.metrics import accuracy_score\n",
        "acc_sklearn = accuracy_score(Y_test, Y_predict)\n",
        "\n",
        "print(\"Acc (sklearn): {}\".format(acc_sklearn))"
      ],
      "execution_count": 66,
      "outputs": [
        {
          "output_type": "stream",
          "text": [
            "Acc (sklearn): 0.7971872686898593\n"
          ],
          "name": "stdout"
        }
      ]
    },
    {
      "cell_type": "markdown",
      "metadata": {
        "id": "sOm69JEGka7E"
      },
      "source": [
        "En este caso tenemos un ACC de 0.792 por lo que habría acertado un 79,2% de las predicciones realizadas. "
      ]
    },
    {
      "cell_type": "markdown",
      "metadata": {
        "id": "TkwbjbUEkvJm"
      },
      "source": [
        "Con un árbol de decisión:"
      ]
    },
    {
      "cell_type": "code",
      "metadata": {
        "colab": {
          "base_uri": "https://localhost:8080/"
        },
        "id": "OHYMCpkjkFxh",
        "outputId": "af0efecb-837e-4195-d80a-716dbab094f9"
      },
      "source": [
        "from sklearn import tree\n",
        "\n",
        "#árbol de decisión importado con parámetros default\n",
        "model = tree.DecisionTreeClassifier().fit(X_train,Y_train)\n",
        "\n",
        "Y_predict = model.predict(X_test)\n",
        "\n",
        "print(\"Acc: {}\".format(accuracy_score(Y_test, Y_predict)))"
      ],
      "execution_count": 67,
      "outputs": [
        {
          "output_type": "stream",
          "text": [
            "Acc: 0.768319763138416\n"
          ],
          "name": "stdout"
        }
      ]
    },
    {
      "cell_type": "code",
      "metadata": {
        "id": "rBGMgUixmESW"
      },
      "source": [
        "En este caso tenemos un ACC de 0.772."
      ],
      "execution_count": null,
      "outputs": []
    },
    {
      "cell_type": "markdown",
      "metadata": {
        "id": "Ngd8Ybm1mI1o"
      },
      "source": [
        "Con una SVM:"
      ]
    },
    {
      "cell_type": "code",
      "metadata": {
        "id": "blvHpyyBmIPt"
      },
      "source": [
        "from sklearn.model_selection import train_test_split\n",
        "import numpy as np\n",
        "import matplotlib.pyplot as plt\n",
        "from sklearn import datasets\n",
        "from sklearn import svm\n"
      ],
      "execution_count": 68,
      "outputs": []
    },
    {
      "cell_type": "code",
      "metadata": {
        "id": "Y4am8Kf-oS7Z"
      },
      "source": [
        "model = svm.SVC().fit(X_train,Y_train)"
      ],
      "execution_count": 69,
      "outputs": []
    },
    {
      "cell_type": "code",
      "metadata": {
        "colab": {
          "base_uri": "https://localhost:8080/"
        },
        "id": "j6M966Y-osQL",
        "outputId": "91b5cf93-6d22-49e4-f748-d27192b347da"
      },
      "source": [
        "Y_predict = model.predict(X_test)\n",
        "print(\"Acc: {}\".format(accuracy_score(Y_test, Y_predict)))"
      ],
      "execution_count": 70,
      "outputs": [
        {
          "output_type": "stream",
          "text": [
            "Acc: 0.7379718726868986\n"
          ],
          "name": "stdout"
        }
      ]
    },
    {
      "cell_type": "markdown",
      "metadata": {
        "id": "pqWWWthQo06r"
      },
      "source": [
        "Tenemos un ACC de 0.735\n"
      ]
    },
    {
      "cell_type": "markdown",
      "metadata": {
        "id": "kr0l7NU2muuG"
      },
      "source": [
        "Con una random forest.\n",
        "\n",
        "\n"
      ]
    },
    {
      "cell_type": "code",
      "metadata": {
        "colab": {
          "base_uri": "https://localhost:8080/"
        },
        "id": "TCs1LvCcmrt2",
        "outputId": "f816d6cd-90cf-448d-badf-8212bdf9e7b6"
      },
      "source": [
        "from sklearn.ensemble import RandomForestClassifier\n",
        "model = RandomForestClassifier().fit(X_train,Y_train)\n",
        "Y_predict = model.predict(X_test)\n",
        "print(\"Acc: {}\".format(accuracy_score(Y_test, Y_predict)))\n"
      ],
      "execution_count": 71,
      "outputs": [
        {
          "output_type": "stream",
          "text": [
            "Acc: 0.8393782383419689\n"
          ],
          "name": "stdout"
        }
      ]
    },
    {
      "cell_type": "markdown",
      "metadata": {
        "id": "dRMsafW2qCln"
      },
      "source": [
        "Tenemos un ACC del 0.839.\n"
      ]
    },
    {
      "cell_type": "markdown",
      "metadata": {
        "id": "gCWmUuVbqOl4"
      },
      "source": [
        "Para continúar desbalanceamos más los datos:\n",
        "no he podido indexar porque SVC no lo permitía"
      ]
    },
    {
      "cell_type": "code",
      "metadata": {
        "id": "0EEJroqRqOHb"
      },
      "source": [
        "import pandas as pd\n",
        "from sklearn.model_selection import train_test_split\n",
        "\n",
        "data = pd.read_csv('/content/sample_data/phoneme - tesisua.csv', header=None, delimiter=',')\n",
        "\n",
        "X = data.loc[:,0:4]\n",
        "Y = data.loc[:,5]\n",
        "\n",
        "X_train, X_test, Y_train, Y_test = train_test_split(X, Y, test_size = 0.25)\n"
      ],
      "execution_count": 84,
      "outputs": []
    },
    {
      "cell_type": "code",
      "metadata": {
        "colab": {
          "base_uri": "https://localhost:8080/"
        },
        "id": "TqGpxDdarMON",
        "outputId": "8f9b90c9-62a6-4ff0-dcb0-b784c8b21566"
      },
      "source": [
        "histogr = {i:list(Y).count(i) for i in set(Y)}\n",
        "print(\"La distribución inicial de clases es: {}\".format(histogr))\n",
        "\n",
        "data_binary = pd.concat([data[data[0]==0][:100], data[data[0]!=0]])\n",
        "\n",
        "X_binary = data_binary.loc[:,1:]\n",
        "Y_binary = data_binary.loc[:,0]\n",
        "Y_binary.iloc[100:]=1\n",
        "Y_binary = Y_binary.astype('int')\n",
        "histogr = {i:list(Y_binary).count(i) for i in set(Y_binary)}\n",
        "print(\"La distribución binaria y desbalanceada es: {}\".format(histogr))"
      ],
      "execution_count": 85,
      "outputs": [
        {
          "output_type": "stream",
          "text": [
            "La distribución inicial de clases es: {0: 3818, 1: 1586}\n",
            "La distribución binaria y desbalanceada es: {1: 5304, -894: 1, -765: 1, -125: 3, -633: 1, -504: 1, -761: 1, -120: 1, -885: 1, -117: 1, -151: 1, -114: 3, -113: 1, -111: 2, -109: 1, -106: 2, -105: 2, -104: 4, -103: 3, -102: 3, -869: 1, -101: 1, -992: 1, -94: 1, -732: 1, -982: 1, -724: 1, -83: 1, -851: 1, -592: 1, -75: 1, -969: 1, -580: 1, -67: 1, -831: 1, -443: 1, -58: 1, -951: 1, -437: 1, -693: 1, -820: 1, -137: 1, -687: 1, -814: 1, -165: 2, -164: 3, -162: 1, -158: 1, -541: 1, -157: 1, -155: 1, -154: 1, -920: 1, -791: 1, -132: 2, -533: 1, -532: 1, -788: 1, -146: 3, -147: 1, -144: 1, -143: 3, -142: 1, -13: 1, -12: 2, -11: 3, -1: 1, -905: 1, -136: 1, -138: 1, -141: 1, -14: 2, -900: 1, -515: 1, -642: 1}\n"
          ],
          "name": "stdout"
        },
        {
          "output_type": "stream",
          "text": [
            "/usr/local/lib/python3.6/dist-packages/pandas/core/indexing.py:670: SettingWithCopyWarning: \n",
            "A value is trying to be set on a copy of a slice from a DataFrame\n",
            "\n",
            "See the caveats in the documentation: https://pandas.pydata.org/pandas-docs/stable/user_guide/indexing.html#returning-a-view-versus-a-copy\n",
            "  iloc._setitem_with_indexer(indexer, value)\n"
          ],
          "name": "stderr"
        }
      ]
    },
    {
      "cell_type": "code",
      "metadata": {
        "id": "fXrYBiKRp928"
      },
      "source": [
        "X_binary_train, X_binary_test, Y_binary_train, Y_binary_test = train_test_split(X_binary, Y_binary, test_size = 0.25)\n",
        "\n"
      ],
      "execution_count": 86,
      "outputs": []
    },
    {
      "cell_type": "code",
      "metadata": {
        "id": "EhzPjAFGsK3q"
      },
      "source": [
        "model_binary = tree.DecisionTreeClassifier().fit(X_binary_train,Y_binary_train)\n",
        "\n",
        "model_binary = neighbors.KNeighborsClassifier().fit(X_binary_train, Y_binary_train)\n",
        "\n",
        "Y_binary_predict = model_binary.predict(X_test)"
      ],
      "execution_count": 98,
      "outputs": []
    },
    {
      "cell_type": "code",
      "metadata": {
        "colab": {
          "base_uri": "https://localhost:8080/"
        },
        "id": "i3qVNbgQscfB",
        "outputId": "cce45a67-50ba-4ea4-b6c9-4c14fba9f797"
      },
      "source": [
        "from sklearn.metrics import precision_score,recall_score,f1_score\n",
        "\n",
        "print(\"Acc:\\t{:.4f}\".format(accuracy_score(Y_binary_test, Y_binary_predict)))\n",
        "precision_score(Y_binary_test, Y_binary_predict, average='weighted')\n",
        "precision_score(Y_binary_test, Y_binary_predict, average='micro')\n",
        "print(\"-\"*20)\n",
        "print(precision_score)\n",
        "print(\"Acc (all 1s):\\t{:.4f}\".format(accuracy_score(Y_binary_test, [1 for u in Y_binary_predict]))) "
      ],
      "execution_count": 103,
      "outputs": [
        {
          "output_type": "stream",
          "text": [
            "Acc:\t0.9830\n",
            "--------------------\n",
            "<function precision_score at 0x7f83a5c16048>\n",
            "Acc (all 1s):\t0.9830\n"
          ],
          "name": "stdout"
        },
        {
          "output_type": "stream",
          "text": [
            "/usr/local/lib/python3.6/dist-packages/sklearn/metrics/_classification.py:1272: UndefinedMetricWarning: Precision is ill-defined and being set to 0.0 in labels with no predicted samples. Use `zero_division` parameter to control this behavior.\n",
            "  _warn_prf(average, modifier, msg_start, len(result))\n"
          ],
          "name": "stderr"
        }
      ]
    },
    {
      "cell_type": "code",
      "metadata": {
        "colab": {
          "base_uri": "https://localhost:8080/"
        },
        "id": "FvV98FpvsfFF",
        "outputId": "ac50e4f6-c77f-4e63-b24e-27cc78db3bfe"
      },
      "source": [
        "#Importamos el método para la validación cruzada:\n",
        "from sklearn.model_selection import cross_val_score\n",
        "\n",
        "#Creamos un clasificador (árbol de decisión con parámetros por defecto):\n",
        "model_CV = tree.DecisionTreeClassifier()\n",
        "\n",
        "#Realizamos la validación cruzada con k=10 particiones:\n",
        "scores = cross_val_score(model_CV, X_binary, Y_binary, cv=10)\n",
        "\n",
        "#Mostramos los resultados por cada partición:\n",
        "print(scores)"
      ],
      "execution_count": 90,
      "outputs": [
        {
          "output_type": "stream",
          "text": [
            "/usr/local/lib/python3.6/dist-packages/sklearn/model_selection/_split.py:667: UserWarning: The least populated class in y has only 1 members, which is less than n_splits=10.\n",
            "  % (min_groups, self.n_splits)), UserWarning)\n"
          ],
          "name": "stderr"
        },
        {
          "output_type": "stream",
          "text": [
            "[0.9038817  0.92051756 0.96118299 0.96857671 0.9537037  0.97222222\n",
            " 0.97407407 0.97592593 0.97407407 0.91666667]\n"
          ],
          "name": "stdout"
        }
      ]
    },
    {
      "cell_type": "code",
      "metadata": {
        "colab": {
          "base_uri": "https://localhost:8080/"
        },
        "id": "fb9FufIYsr2O",
        "outputId": "6da1fe0e-042e-49ce-e783-072d2433dc4d"
      },
      "source": [
        "#Incluimos el método make_scorer, cambias la métrica porque suele usar sklearn accuracy pero maker score balancea las clases:\n",
        "from sklearn.metrics import make_scorer\n",
        "\n",
        "#Realizamos la misma validación cruzada con k=5 particiones pero usando la métrica F1 sobre la clase 0:\n",
        "scores = cross_val_score(model_CV, X_binary, Y_binary, cv=10, scoring=make_scorer(f1_score, average='weighted'))\n",
        "\n",
        "#Mostramos los resultados por cada partición:\n",
        "print(scores)"
      ],
      "execution_count": 106,
      "outputs": [
        {
          "output_type": "stream",
          "text": [
            "/usr/local/lib/python3.6/dist-packages/sklearn/model_selection/_split.py:667: UserWarning: The least populated class in y has only 1 members, which is less than n_splits=10.\n",
            "  % (min_groups, self.n_splits)), UserWarning)\n"
          ],
          "name": "stderr"
        },
        {
          "output_type": "stream",
          "text": [
            "[0.93368356 0.94467345 0.9629264  0.96769155 0.96377194 0.9676578\n",
            " 0.97225703 0.96952341 0.97043291 0.95434806]\n"
          ],
          "name": "stdout"
        }
      ]
    }
  ]
}